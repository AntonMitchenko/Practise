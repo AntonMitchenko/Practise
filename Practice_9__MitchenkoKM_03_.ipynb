{
  "nbformat": 4,
  "nbformat_minor": 0,
  "metadata": {
    "colab": {
      "name": "Practice_7_KM-01_.ipynb",
      "provenance": [],
      "collapsed_sections": []
    },
    "kernelspec": {
      "name": "python3",
      "display_name": "Python 3.8.5 32-bit",
      "metadata": {
        "interpreter": {
          "hash": "52f3bfcd9b928de5bb82aec7cacd10e8bbb13cc7af47b3a91cbbc01684babfe1"
        }
      }
    }
  },
  "cells": [
    {
      "cell_type": "markdown",
      "metadata": {
        "id": "FMqboNwO4rVs"
      },
      "source": [
        "# **Курс \"Програмування на мові Python\"**\n",
        "\n",
        "##### Викладачі:\n",
        "##### Борисенко Павло Борисович\n",
        "##### Щьоголєв Максим Олегович\n"
      ]
    },
    {
      "cell_type": "markdown",
      "metadata": {
        "id": "A2T6MigL5Z06"
      },
      "source": [
        "## **Практичне зайняття №9**\n",
        "\n",
        "### Тема: \"Лямбда-функції. Функції вищих порядків\""
      ]
    },
    {
      "cell_type": "markdown",
      "metadata": {
        "id": "cfCdgK2zXm7e"
      },
      "source": [
        "### **Завдання 1 (1 бал)**\n",
        "\n",
        "Продавець роздрібного товару влаштовує розпродаж. Для всіх товарів знижка однакова - 60%. Щоб вивісити нові цінники, продавець хоче скласти таблицю, в якій для кожного товару буде підрахована його нова вартість та сума знижки.\n",
        "\n",
        "Написати програму, яка буде генерувати таку таблицю. Вартість одиниць товарів до розпродажу подано у списку products_list. \n",
        "\n",
        "1. Для підрахунку невідомих значень повинні використовуватись вбудовані функції вищих порядків.\n",
        "\n",
        "2. Вартість з урахуванням знижки та суми знижок для кожного товару повинні зберігатись у двох окремих списках. Порядок товарів у нових списках повинен бути такий самий, як і в списку products_list.\n",
        "\n",
        "3. Кожне підраховане числове значення має бути округлене до сотих.\n",
        "\n",
        "4. Дані повинні виводитись у вигляді:\n",
        "\n",
        "**Discount table:**\n",
        "\n",
        "**29.25 11.7 17.55**\n",
        "\n",
        "**48.99 19.6 29.39**\n",
        "\n",
        "**...**\n",
        "\n",
        "\n",
        "products_list = [[29.25, 48.99, 99.98, 124.65, 214.30, 543.90, 799.85]]\n"
      ]
    },
    {
      "cell_type": "code",
      "metadata": {
        "id": "ifNX2M7LXm7f"
      },
      "source": [
        "products_list = [29.25, 48.99, 99.98, 124.65, 214.30, 543.90, 799.85]\n",
        "re_product_list = list(map(lambda i:round(i * 0.4, 2), products_list))\n",
        "print('Your updated list:', ' '.join(map(str, re_product_list)))\n",
        "sale_list = list(map(lambda i:round(i * 0.6, 2), products_list))\n",
        "print('Your sales list:', ' '.join(map(str, sale_list)))\n"
      ],
      "execution_count": 13,
      "outputs": [
        {
          "output_type": "stream",
          "name": "stdout",
          "text": [
            "Your updated list: 11.7 19.6 39.99 49.86 85.72 217.56 319.94\nYour sales list: 17.55 29.39 59.99 74.79 128.58 326.34 479.91\n"
          ]
        }
      ]
    },
    {
      "source": [
        "### **Завдання 2 (2 бали)**\n",
        "\n",
        "Зазвичай рік має 365 днів. Однак у високосні роки додається ще один день - 29 лютого. Правила визначення високосного року такі:\n",
        "\n",
        "- Будь-який рік, що ділиться на 400 - високосний.\n",
        "\n",
        "- З тих років, що залишились, будь-який рік, що ділиться на 100 - **не** високосний.\n",
        "\n",
        "- З тих років, що залишились, будь-який рік, що ділиться на 4 - високосний.\n",
        "\n",
        "- Усі інші роки, що залишились - **не** високосні.\n",
        "\n",
        "1) Створіть функцію, в якій за допомогою вбудованих функцій вищих порядків будуть визначатися високосні роки серед перелічених років у списку years. Створена функція має повертати список високосних років.\n",
        "\n",
        "2) Створіть функцію вищих порядків, яка прийматиме на вхід попередню функцію та визначатиме кількість днів у місяці. Також функція повинна приймати на вхід ще 2 параметри: ціле число від 1 до 12 (місяць) та рік, як ціле чотирицифрове число. Ці значення корисувач має вводити з клавіатури. Перевірку введених даних слід виконувати поза межами функцій."
      ],
      "cell_type": "markdown",
      "metadata": {}
    },
    {
      "cell_type": "code",
      "execution_count": 93,
      "metadata": {},
      "outputs": [
        {
          "output_type": "stream",
          "name": "stdout",
          "text": [
            "High years: [1900, 1904, 1908, 1912, 1916, 1920, 1924, 1928, 1932, 1936, 1940, 1944, 1948, 1952, 1956, 1960, 1964, 1968, 1972, 1976, 1980, 1984, 1988, 1992, 1996, 2000, 2004, 2008, 2012, 2016, 2020]\nJune = 30\n"
          ]
        }
      ],
      "source": [
        "import numpy as np\n",
        "years = np.arange(1900, 2020+1, 1)\n",
        "def high_years(years):\n",
        "    main_list = []\n",
        "    d1 = list(filter(lambda i: i % 4 == 0, years))\n",
        "    for elements1 in d1:\n",
        "        main_list.append(elements1)\n",
        "    d2 = list(filter(lambda i: i % 100 != 0, d1))\n",
        "    for elements2 in d2:\n",
        "        main_list.append(elements2)\n",
        "    d3 = list(filter(lambda i: i % 400 == 0, d2))\n",
        "    for elements in d3:\n",
        "        main_list.append(elements)\n",
        "    a = list(set(main_list))\n",
        "    a.sort()\n",
        "    print('High years:', a)\n",
        "    return a\n",
        "\n",
        "month = input('What month u want 1 - 12 ?\\n')\n",
        "year = input('What year u want 1900 - 2020?\\n')\n",
        "try:\n",
        "    month = int(month)\n",
        "    year = int(year)\n",
        "    if month > 12 or  month <1:\n",
        "        print(f'Month {month} does not exist')\n",
        "    if 1900 > year < 2020:\n",
        "        print(f'Year {year} not in the database')\n",
        "except:\n",
        "    print('U data not integer')\n",
        "    \n",
        "high_year_month = ['January = 31', 'February = 29', 'March = 31', 'April = 30', 'May = 31', 'June = 30',\n",
        "                  'July = 31', 'August = 31', 'September = 30', 'October = 31', 'November = 30', 'December = 31']\n",
        "\n",
        "small_year_month =['January = 31', 'February = 28', 'March = 31', 'April = 30', 'May = 31', 'June = 30',\n",
        "                  'July = 31', 'August = 31', 'September = 30', 'October = 31', 'November = 30', 'December = 31']\n",
        " \n",
        "def main(big_years, month, year, high_year_month, small_year_month):\n",
        "    if year in high_years(years):\n",
        "        b = high_year_month[month - 1]\n",
        "        print(b)\n",
        "    else:\n",
        "        c = small_year_month[month - 1]\n",
        "        print(c)\n",
        "main(big_years, month, year, big_year_month, small_year_month)\n",
        "\n"
      ]
    }
  ]
}