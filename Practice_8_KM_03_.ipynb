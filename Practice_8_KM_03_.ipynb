{
  "nbformat": 4,
  "nbformat_minor": 0,
  "metadata": {
    "colab": {
      "name": "Practice_7_KM-01_.ipynb",
      "provenance": [],
      "collapsed_sections": []
    },
    "kernelspec": {
      "name": "python3",
      "display_name": "Python 3"
    }
  },
  "cells": [
    {
      "cell_type": "markdown",
      "metadata": {
        "id": "FMqboNwO4rVs"
      },
      "source": [
        "# **Курс \"Програмування на мові Python\"**\n",
        "\n",
        "##### Викладачі:\n",
        "##### Борисенко Павло Борисович\n",
        "##### Щьоголєв Максим Олегович\n"
      ]
    },
    {
      "cell_type": "markdown",
      "metadata": {
        "id": "A2T6MigL5Z06"
      },
      "source": [
        "## **Практичне зайняття №8**\n",
        "\n",
        "### Тема: \"Робота з функціями. Локальні та глобальні змінні\""
      ]
    },
    {
      "cell_type": "markdown",
      "metadata": {
        "id": "cfCdgK2zXm7e"
      },
      "source": [
        "### **Завдання 1 (3 бали)**\n",
        "\n",
        "**Підрахувати визначник матриці, використовуючи перестановки та символ Леві-Чивіти.**\n",
        "\n",
        "Функція random_matrix() призначена для створення квадратної матриці випадкових чисел. Її змінювати непотрібно.\n",
        "\n",
        "Приклад використання методу permutations() для створення списку перестановок також подається у комірці з кодом.\n",
        "\n",
        "1) Створити 3 функції: функцію створення списку перестановок, функцію підрахунку добутків та функцію підрахунку загальної суми.\n",
        "\n",
        "2) Кожна функція має супроводжуватись рядком документації, що буде коротко описувати її призначення.\n",
        "\n",
        "3) Розмірність квадратної матриці має вводитись користувачем з клавіатури. Підрахунки виконувати лише в тому разі, якщо користувач введе ціле додатне число.\n",
        "\n",
        "4) Загальний результат повинен підраховуватись за допомогою композиції функцій.\n",
        "\n",
        "За бажання можна перевірити правильність роботи програми за допомогою функції np.linalg.det(a)."
      ]
    },
    {
      "cell_type": "code",
      "metadata": {
        "id": "ifNX2M7LXm7f"
      },
      "source": [
        "import numpy as np\n",
        "import re\n",
        "from itertools import*\n",
        "import itertools\n",
        "\n",
        "b = []\n",
        "while True:\n",
        "        x = input('Введіть слово якщо хочете продовжити нтисніть space: ').split(' ')\n",
        "        x = str(x)\n",
        "        print(x)\n",
        "        if x == \"['']\":\n",
        "            break\n",
        "        else:\n",
        "            re_find = re.compile('\\d*\\d')\n",
        "            x1 = re_find.findall(x)\n",
        "            b.append(x1)\n",
        "\n",
        "\n",
        "print(b)\n",
        "for i in range(len(b)):\n",
        "    A = np.array(b)\n",
        "print(A)\n",
        "\n",
        "def dia_0(A):\n",
        "    return A[0][0] * A[1][1] - A[0][1] * A[1][0]\n",
        "\n",
        "leb = len(b)\n",
        "print(leb)\n",
        "\n",
        "n = 1\n",
        "for i in range(1, leb + 1):\n",
        "    n *= i\n",
        "print(n)\n",
        "v = []\n",
        "for m in range(leb):\n",
        "    v.append(m)\n",
        "    m += 1\n",
        "print(v)\n",
        "\n",
        "for q in permutations(v):\n",
        "    print(q, end=' ')\n",
        "print(n)\n",
        "n = str(n)\n",
        "n = list(n)\n",
        "print(n[0])\n",
        "y = 0\n",
        "k = 0\n",
        "\n",
        "ia = list(itertools.permutations(v))\n",
        "ia = str(ia)\n",
        "\n",
        "\n",
        "re_find = re.compile('\\d*\\d')\n",
        "ia1 = re_find.findall(ia)\n",
        "print(ia1)\n",
        "ia1 = str(ia1[1])\n",
        "print(ia1)\n",
        "ia1 = int(ia1)\n",
        "print(ia1[1])\n",
        "\n",
        "y1 = 0\n",
        "o = 0\n",
        "u = 0\n",
        "for p in range(leb+1):\n",
        "    p += 1\n",
        "    for k in range(leb+1):\n",
        "        k += 1\n",
        "        for o in range(leb + 1):\n",
        "            p += 1\n",
        "            o += 1\n",
        "            for u in range(leb + 1):\n",
        "                y1 *= A[k, ia1[0:(leb+1)]]\n",
        "                u += 1\n",
        "            y += ((-1) ** (leb + p)) * y1\n",
        "print(y)"
      ],
      "execution_count": null,
      "outputs": []
    }
  ]
}